{
 "cells": [
  {
   "cell_type": "markdown",
   "id": "5e0fa22b",
   "metadata": {},
   "source": [
    "# Flask Web App\n",
    "\n",
    "## Introduction\n",
    "This Jupyter Notebook contains code for a simple Flask web application. It includes Python code for the backend, as well as HTML, CSS, and JavaScript for the frontend."
   ]
  },
  {
   "cell_type": "markdown",
   "id": "f6617cb6-c183-4f02-ba5d-04a3f606bc24",
   "metadata": {},
   "source": [
    "## Python Code (Flask Application)\n",
    "```python\n",
    "from flask import Flask, render_template\n",
    "\n",
    "# Initialize Flask application\n",
    "app = Flask(__name__)\n",
    "\n",
    "# Define a route for the home page\n",
    "@app.route('/')\n",
    "def home():\n",
    "    return render_template('index.html')\n",
    "\n",
    "# Run the application\n",
    "if __name__ == '__main__':\n",
    "    app.run(debug=True)\n",
    "```"
   ]
  },
  {
   "cell_type": "markdown",
   "id": "c528d985-f8a8-42cb-98cd-d17ac1367c63",
   "metadata": {},
   "source": [
    "### Explanation\n",
    "- Initializes a Flask web application.\n",
    "- Defines a route (`/`) that serves an HTML page.\n",
    "- Uses `render_template` to load `index.html` from the `templates` folder.\n",
    "- Runs the application in debug mode.\n",
    "\n",
    "---"
   ]
  },
  {
   "cell_type": "markdown",
   "id": "c661cb45-05a5-47ac-8ac2-98e4e8c31a6f",
   "metadata": {},
   "source": [
    "## HTML File (`templates/index.html`)\n",
    "```html\n",
    "<!DOCTYPE html>\n",
    "<html lang=\"en\">\n",
    "<head>\n",
    "    <meta charset=\"UTF-8\">\n",
    "    <meta name=\"viewport\" content=\"width=device-width, initial-scale=1.0\">\n",
    "    <title>Simple Web App</title>\n",
    "    <link rel=\"stylesheet\" href=\"{{ url_for('static', filename='styles.css') }}\">\n",
    "</head>\n",
    "<body>\n",
    "    <h1>Welcome to My Simple Web App</h1>\n",
    "    <p>This is a basic Flask web application.</p>\n",
    "    <button onclick=\"displayMessage()\">Click Me</button>\n",
    "    <script src=\"{{ url_for('static', filename='script.js') }}\"></script>\n",
    "</body>\n",
    "</html>\n",
    "```\n"
   ]
  },
  {
   "cell_type": "markdown",
   "id": "9f511701-c240-4f11-b270-b77e30600729",
   "metadata": {},
   "source": [
    "### Explanation\n",
    "- Defines the webpage structure using HTML.\n",
    "- Links a CSS file for styling and a JavaScript file for interactivity.\n",
    "\n",
    "---"
   ]
  },
  {
   "cell_type": "markdown",
   "id": "3cd046a0-0174-47f2-a27a-9b5b31bf5cfc",
   "metadata": {},
   "source": [
    "## CSS File (`static/styles.css`)\n",
    "```css\n",
    "body {\n",
    "    font-family: Arial, sans-serif;\n",
    "    text-align: center;\n",
    "    background-color: #f4f4f4;\n",
    "    margin: 50px;\n",
    "}\n",
    "button {\n",
    "    background-color: #008CBA;\n",
    "    color: white;\n",
    "    padding: 10px 20px;\n",
    "    border: none;\n",
    "    cursor: pointer;\n",
    "}\n",
    "button:hover {\n",
    "    background-color: #005f73;\n",
    "}\n",
    "```"
   ]
  },
  {
   "cell_type": "markdown",
   "id": "e777d04c-3887-4cfc-a029-edd555e1597b",
   "metadata": {},
   "source": [
    "### Explanation\n",
    "- Styles the body and button elements to enhance UI appearance.\n",
    "- Adds a hover effect to the button.\n",
    "\n",
    "---"
   ]
  },
  {
   "cell_type": "markdown",
   "id": "1f84feb3-0998-4871-8495-2e294d2bf291",
   "metadata": {},
   "source": [
    "## JavaScript File (`static/script.js`)\n",
    "```javascript\n",
    "function displayMessage() {\n",
    "    alert(\"Hello! Welcome to my simple web app!\");\n",
    "}\n",
    "```"
   ]
  },
  {
   "cell_type": "markdown",
   "id": "2e5e7cd1-3ca0-4f84-aa08-d5dd2312509e",
   "metadata": {},
   "source": [
    "### Explanation\n",
    "- Defines a function `displayMessage()` to display an alert when the button is clicked.\n",
    "\n",
    "---"
   ]
  },
  {
   "cell_type": "markdown",
   "id": "63d83fd8-5e83-4b75-8869-7983565e73ab",
   "metadata": {},
   "source": [
    "## Conclusion\n",
    "This simple Flask application integrates backend and frontend components to create a functional web app."
   ]
  }
 ],
 "metadata": {
  "kernelspec": {
   "display_name": "Python 3 (ipykernel)",
   "language": "python",
   "name": "python3"
  },
  "language_info": {
   "codemirror_mode": {
    "name": "ipython",
    "version": 3
   },
   "file_extension": ".py",
   "mimetype": "text/x-python",
   "name": "python",
   "nbconvert_exporter": "python",
   "pygments_lexer": "ipython3",
   "version": "3.12.9"
  }
 },
 "nbformat": 4,
 "nbformat_minor": 5
}
